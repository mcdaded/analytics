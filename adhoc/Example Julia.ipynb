{
 "cells": [
  {
   "cell_type": "markdown",
   "metadata": {},
   "source": [
    "https://turing.ml/dev/"
   ]
  },
  {
   "cell_type": "code",
   "execution_count": 5,
   "metadata": {},
   "outputs": [
    {
     "data": {
      "text/plain": [
       "DynamicPPL.ModelGen{var\"###generator#443\",(:x, :y),(),Tuple{}}(##generator#443, NamedTuple())"
      ]
     },
     "execution_count": 5,
     "metadata": {},
     "output_type": "execute_result"
    }
   ],
   "source": [
    "using Turing\n",
    "\n",
    "# Define a simple Normal model with unknown mean and variance.\n",
    "@model gdemo(x, y) = begin\n",
    "  s ~ InverseGamma(2, 3)\n",
    "  m ~ Normal(0, sqrt(s))\n",
    "  x ~ Normal(m, sqrt(s))\n",
    "  y ~ Normal(m, sqrt(s))\n",
    "end"
   ]
  },
  {
   "cell_type": "code",
   "execution_count": 6,
   "metadata": {},
   "outputs": [
    {
     "name": "stderr",
     "output_type": "stream",
     "text": [
      "\u001b[32mSampling: 100%|█████████████████████████████████████████| Time: 0:00:01\u001b[39m\n"
     ]
    },
    {
     "data": {
      "text/plain": [
       "Object of type Chains, with data of type 1000×11×1 Array{Float64,3}\n",
       "\n",
       "Iterations        = 1:1000\n",
       "Thinning interval = 1\n",
       "Chains            = 1\n",
       "Samples per chain = 1000\n",
       "internals         = acceptance_rate, hamiltonian_energy, hamiltonian_energy_error, is_accept, log_density, lp, n_steps, nom_step_size, step_size\n",
       "parameters        = m, s\n",
       "\n",
       "2-element Array{ChainDataFrame,1}\n",
       "\n",
       "Summary Statistics\n",
       "  parameters    mean     std  naive_se    mcse       ess   r_hat\n",
       "  ──────────  ──────  ──────  ────────  ──────  ────────  ──────\n",
       "           m  1.1404  0.8470    0.0268  0.1084   71.2192  1.0033\n",
       "           s  1.8656  1.5581    0.0493  0.1070  178.4834  1.0046\n",
       "\n",
       "Quantiles\n",
       "  parameters     2.5%   25.0%   50.0%   75.0%   97.5%\n",
       "  ──────────  ───────  ──────  ──────  ──────  ──────\n",
       "           m  -0.6875  0.7218  1.1932  1.6801  2.5054\n",
       "           s   0.5620  0.9778  1.4195  2.1646  5.6733\n"
      ]
     },
     "execution_count": 6,
     "metadata": {},
     "output_type": "execute_result"
    }
   ],
   "source": [
    "#  Run sampler, collect results\n",
    "chn = sample(gdemo(1.5, 2), HMC(0.1, 5), 1000)"
   ]
  },
  {
   "cell_type": "code",
   "execution_count": 7,
   "metadata": {},
   "outputs": [
    {
     "data": {
      "text/plain": [
       "2-element Array{ChainDataFrame,1}\n",
       "\n",
       "Summary Statistics\n",
       "  parameters    mean     std  naive_se    mcse       ess   r_hat\n",
       "  ──────────  ──────  ──────  ────────  ──────  ────────  ──────\n",
       "           m  1.1404  0.8470    0.0268  0.1084   71.2192  1.0033\n",
       "           s  1.8656  1.5581    0.0493  0.1070  178.4834  1.0046\n",
       "\n",
       "Quantiles\n",
       "  parameters     2.5%   25.0%   50.0%   75.0%   97.5%\n",
       "  ──────────  ───────  ──────  ──────  ──────  ──────\n",
       "           m  -0.6875  0.7218  1.1932  1.6801  2.5054\n",
       "           s   0.5620  0.9778  1.4195  2.1646  5.6733\n"
      ]
     },
     "execution_count": 7,
     "metadata": {},
     "output_type": "execute_result"
    }
   ],
   "source": [
    "# Summarise results (currently requires the master branch from MCMCChains)\n",
    "describe(chn)"
   ]
  },
  {
   "cell_type": "code",
   "execution_count": null,
   "metadata": {},
   "outputs": [],
   "source": []
  },
  {
   "cell_type": "code",
   "execution_count": 8,
   "metadata": {},
   "outputs": [
    {
     "name": "stderr",
     "output_type": "stream",
     "text": [
      "┌ Info: Precompiling StatsPlots [f3b207a7-027a-5e70-b257-86293d7955fd]\n",
      "└ @ Base loading.jl:1273\n",
      "┌ Info: Precompiling NamedArrays [86f7a689-2022-50b4-a561-43c23ac3c673]\n",
      "└ @ Base loading.jl:1273\n"
     ]
    }
   ],
   "source": [
    "using StatsPlots\n",
    "\n",
    "# Plot and save results\n",
    "p = plot(chn)\n",
    "savefig(\"gdemo-plot.png\")"
   ]
  },
  {
   "cell_type": "code",
   "execution_count": null,
   "metadata": {},
   "outputs": [],
   "source": []
  }
 ],
 "metadata": {
  "hide_input": false,
  "kernelspec": {
   "display_name": "Julia 1.3.1",
   "language": "julia",
   "name": "julia-1.3"
  },
  "language_info": {
   "file_extension": ".jl",
   "mimetype": "application/julia",
   "name": "julia",
   "version": "1.3.1"
  }
 },
 "nbformat": 4,
 "nbformat_minor": 4
}
