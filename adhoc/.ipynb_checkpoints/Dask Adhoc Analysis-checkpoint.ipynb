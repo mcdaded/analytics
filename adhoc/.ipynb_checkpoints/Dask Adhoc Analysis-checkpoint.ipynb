{
 "cells": [
  {
   "cell_type": "code",
   "execution_count": 1,
   "metadata": {},
   "outputs": [
    {
     "name": "stderr",
     "output_type": "stream",
     "text": [
      "C:\\Users\\danmc\\Anaconda3\\envs\\dev\\lib\\site-packages\\dask\\dataframe\\_compat.py:19: FutureWarning: pandas.util.testing is deprecated. Use the functions in the public API at pandas.testing instead.\n",
      "  import pandas.util.testing as tm  # noqa: F401\n"
     ]
    }
   ],
   "source": [
    "import os\n",
    "import sys\n",
    "import numpy as np\n",
    "import pandas as pd\n",
    "\n",
    "import dask.dataframe as dd"
   ]
  },
  {
   "cell_type": "code",
   "execution_count": 4,
   "metadata": {},
   "outputs": [
    {
     "name": "stderr",
     "output_type": "stream",
     "text": [
      "ERROR:root:Internal Python error in the inspect module.\n",
      "Below is the traceback from this internal error.\n",
      "\n"
     ]
    },
    {
     "name": "stdout",
     "output_type": "stream",
     "text": [
      "Traceback (most recent call last):\n",
      "  File \"C:\\Users\\danmc\\Anaconda3\\envs\\dev\\lib\\site-packages\\IPython\\core\\interactiveshell.py\", line 3319, in run_code\n",
      "    exec(code_obj, self.user_global_ns, self.user_ns)\n",
      "  File \"<ipython-input-4-81e569e6e5ea>\", line 4, in <module>\n",
      "    df = df.append(_df, ignore_index=True)\n",
      "  File \"C:\\Users\\danmc\\Anaconda3\\envs\\dev\\lib\\site-packages\\pandas\\core\\frame.py\", line 7082, in append\n",
      "    sort=sort,\n",
      "  File \"C:\\Users\\danmc\\Anaconda3\\envs\\dev\\lib\\site-packages\\pandas\\core\\reshape\\concat.py\", line 284, in concat\n",
      "    return op.get_result()\n",
      "  File \"C:\\Users\\danmc\\Anaconda3\\envs\\dev\\lib\\site-packages\\pandas\\core\\reshape\\concat.py\", line 497, in get_result\n",
      "    mgrs_indexers, self.new_axes, concat_axis=self.axis, copy=self.copy\n",
      "  File \"C:\\Users\\danmc\\Anaconda3\\envs\\dev\\lib\\site-packages\\pandas\\core\\internals\\managers.py\", line 2018, in concatenate_block_managers\n",
      "    [ju.block for ju in join_units], placement=placement\n",
      "  File \"C:\\Users\\danmc\\Anaconda3\\envs\\dev\\lib\\site-packages\\pandas\\core\\internals\\blocks.py\", line 359, in concat_same_type\n",
      "    [blk.values for blk in to_concat], axis=self.ndim - 1\n",
      "  File \"<__array_function__ internals>\", line 6, in concatenate\n",
      "KeyboardInterrupt\n",
      "\n",
      "During handling of the above exception, another exception occurred:\n",
      "\n",
      "Traceback (most recent call last):\n",
      "  File \"C:\\Users\\danmc\\Anaconda3\\envs\\dev\\lib\\site-packages\\IPython\\core\\interactiveshell.py\", line 2034, in showtraceback\n",
      "    stb = value._render_traceback_()\n",
      "AttributeError: 'KeyboardInterrupt' object has no attribute '_render_traceback_'\n",
      "\n",
      "During handling of the above exception, another exception occurred:\n",
      "\n",
      "Traceback (most recent call last):\n",
      "  File \"C:\\Users\\danmc\\Anaconda3\\envs\\dev\\lib\\site-packages\\IPython\\core\\ultratb.py\", line 1151, in get_records\n",
      "    return _fixed_getinnerframes(etb, number_of_lines_of_context, tb_offset)\n",
      "  File \"C:\\Users\\danmc\\Anaconda3\\envs\\dev\\lib\\site-packages\\IPython\\core\\ultratb.py\", line 319, in wrapped\n",
      "    return f(*args, **kwargs)\n",
      "  File \"C:\\Users\\danmc\\Anaconda3\\envs\\dev\\lib\\site-packages\\IPython\\core\\ultratb.py\", line 353, in _fixed_getinnerframes\n",
      "    records = fix_frame_records_filenames(inspect.getinnerframes(etb, context))\n",
      "  File \"C:\\Users\\danmc\\Anaconda3\\envs\\dev\\lib\\inspect.py\", line 1502, in getinnerframes\n",
      "    frameinfo = (tb.tb_frame,) + getframeinfo(tb, context)\n",
      "  File \"C:\\Users\\danmc\\Anaconda3\\envs\\dev\\lib\\inspect.py\", line 1460, in getframeinfo\n",
      "    filename = getsourcefile(frame) or getfile(frame)\n",
      "  File \"C:\\Users\\danmc\\Anaconda3\\envs\\dev\\lib\\inspect.py\", line 696, in getsourcefile\n",
      "    if getattr(getmodule(object, filename), '__loader__', None) is not None:\n",
      "  File \"C:\\Users\\danmc\\Anaconda3\\envs\\dev\\lib\\inspect.py\", line 739, in getmodule\n",
      "    f = getabsfile(module)\n",
      "  File \"C:\\Users\\danmc\\Anaconda3\\envs\\dev\\lib\\inspect.py\", line 708, in getabsfile\n",
      "    _filename = getsourcefile(object) or getfile(object)\n",
      "  File \"C:\\Users\\danmc\\Anaconda3\\envs\\dev\\lib\\inspect.py\", line 693, in getsourcefile\n",
      "    if os.path.exists(filename):\n",
      "  File \"C:\\Users\\danmc\\Anaconda3\\envs\\dev\\lib\\genericpath.py\", line 19, in exists\n",
      "    os.stat(path)\n",
      "KeyboardInterrupt\n"
     ]
    },
    {
     "ename": "KeyboardInterrupt",
     "evalue": "",
     "output_type": "error",
     "traceback": [
      "\u001b[1;31m---------------------------------------------------------------------------\u001b[0m"
     ]
    }
   ],
   "source": [
    "df = pd.util.testing.makeMixedDataFrame()\n",
    "for a in range(1000):\n",
    "    _df = pd.util.testing.makeMixedDataFrame()\n",
    "    df = df.append(_df, ignore_index=True)\n",
    "df.shape"
   ]
  },
  {
   "cell_type": "code",
   "execution_count": null,
   "metadata": {},
   "outputs": [],
   "source": []
  }
 ],
 "metadata": {
  "hide_input": false,
  "kernelspec": {
   "display_name": "Python 3",
   "language": "python",
   "name": "python3"
  },
  "language_info": {
   "codemirror_mode": {
    "name": "ipython",
    "version": 3
   },
   "file_extension": ".py",
   "mimetype": "text/x-python",
   "name": "python",
   "nbconvert_exporter": "python",
   "pygments_lexer": "ipython3",
   "version": "3.7.6"
  }
 },
 "nbformat": 4,
 "nbformat_minor": 4
}
